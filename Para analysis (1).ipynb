{
 "cells": [
  {
   "cell_type": "markdown",
   "metadata": {},
   "source": [
    "### Analysis of dataset from NIH regarding Pheochromacytomas & Paragangliomas (PCC/PGL)"
   ]
  },
  {
   "cell_type": "markdown",
   "metadata": {},
   "source": [
    "##### Reviewed this data set to determine if age and/or gender have a direct relationship to size of tumors found and if any other unique factors may weigh into tumor size."
   ]
  },
  {
   "cell_type": "code",
   "execution_count": 1,
   "metadata": {},
   "outputs": [],
   "source": [
    "import pandas as pd\n",
    "import numpy as np\n",
    "import seaborn as sns\n",
    "import statsmodels.formula.api as smf\n",
    "\n",
    "%matplotlib inline"
   ]
  },
  {
   "cell_type": "code",
   "execution_count": 2,
   "metadata": {},
   "outputs": [],
   "source": [
    "# filter repeated warnings - allow one warning to determine if action necessary\n",
    "import warnings\n",
    "warnings.filterwarnings(action='once')"
   ]
  },
  {
   "cell_type": "markdown",
   "metadata": {},
   "source": [
    "Clinical and genetic characteristics of PCC/PGL.\n",
    "\n",
    "https://www.ncbi.nlm.nih.gov/pmc/articles/PMC4354166/\n",
    "\n",
    "Reviewed this data set to determine if age and gender have a direct relationship to size of tumors found and if any other unique factors may weigh into tumor size."
   ]
  },
  {
   "cell_type": "code",
   "execution_count": 3,
   "metadata": {},
   "outputs": [
    {
     "name": "stderr",
     "output_type": "stream",
     "text": [
      "C:\\Users\\D\\Anaconda3\\lib\\site-packages\\defusedxml\\ElementTree.py:68: DeprecationWarning: The html argument of XMLParser() is deprecated\n",
      "  _XMLParser.__init__(self, html, target, encoding)\n",
      "C:\\Users\\D\\Anaconda3\\lib\\site-packages\\xlrd\\xlsx.py:266: PendingDeprecationWarning: This method will be removed in future versions.  Use 'tree.iter()' or 'list(tree.iter())' instead.\n",
      "  for elem in self.tree.iter() if Element_has_iter else self.tree.getiterator():\n"
     ]
    },
    {
     "data": {
      "text/html": [
       "<div>\n",
       "<style scoped>\n",
       "    .dataframe tbody tr th:only-of-type {\n",
       "        vertical-align: middle;\n",
       "    }\n",
       "\n",
       "    .dataframe tbody tr th {\n",
       "        vertical-align: top;\n",
       "    }\n",
       "\n",
       "    .dataframe thead th {\n",
       "        text-align: right;\n",
       "    }\n",
       "</style>\n",
       "<table border=\"1\" class=\"dataframe\">\n",
       "  <thead>\n",
       "    <tr style=\"text-align: right;\">\n",
       "      <th></th>\n",
       "      <th>Supplementary Data 1. Clinical and genetic characteristics of analyzed PCC/PGL.</th>\n",
       "      <th>Unnamed: 1</th>\n",
       "      <th>Unnamed: 2</th>\n",
       "      <th>Unnamed: 3</th>\n",
       "      <th>Unnamed: 4</th>\n",
       "      <th>Unnamed: 5</th>\n",
       "      <th>Unnamed: 6</th>\n",
       "      <th>Unnamed: 7</th>\n",
       "      <th>Unnamed: 8</th>\n",
       "      <th>Unnamed: 9</th>\n",
       "      <th>Unnamed: 10</th>\n",
       "      <th>Unnamed: 11</th>\n",
       "      <th>Unnamed: 12</th>\n",
       "      <th>Unnamed: 13</th>\n",
       "      <th>Unnamed: 14</th>\n",
       "      <th>Unnamed: 15</th>\n",
       "      <th>Unnamed: 16</th>\n",
       "    </tr>\n",
       "  </thead>\n",
       "  <tbody>\n",
       "    <tr>\n",
       "      <th>0</th>\n",
       "      <td>NaN</td>\n",
       "      <td>NaN</td>\n",
       "      <td>NaN</td>\n",
       "      <td>NaN</td>\n",
       "      <td>NaN</td>\n",
       "      <td>NaN</td>\n",
       "      <td>NaN</td>\n",
       "      <td>NaN</td>\n",
       "      <td>NaN</td>\n",
       "      <td>NaN</td>\n",
       "      <td>NaN</td>\n",
       "      <td>NaN</td>\n",
       "      <td>NaN</td>\n",
       "      <td>NaN</td>\n",
       "      <td>NaN</td>\n",
       "      <td>NaN</td>\n",
       "      <td>NaN</td>\n",
       "    </tr>\n",
       "    <tr>\n",
       "      <th>1</th>\n",
       "      <td>Sample #</td>\n",
       "      <td>Patient #</td>\n",
       "      <td>Sex</td>\n",
       "      <td>Age at diagnosis (years)</td>\n",
       "      <td>Benign/ Malignant</td>\n",
       "      <td>Tumor Location</td>\n",
       "      <td>Tumor Size (mm)</td>\n",
       "      <td>Germline Mutation</td>\n",
       "      <td>Somatic Mutation</td>\n",
       "      <td>mRNA expression array</td>\n",
       "      <td>miRNA sequencing</td>\n",
       "      <td>DNA methylation array</td>\n",
       "      <td>SNP array</td>\n",
       "      <td>Whole exome sequencing</td>\n",
       "      <td>mRNA expression Cluster</td>\n",
       "      <td>miRNA expression Cluster</td>\n",
       "      <td>DNA methylation Cluster</td>\n",
       "    </tr>\n",
       "    <tr>\n",
       "      <th>2</th>\n",
       "      <td>1</td>\n",
       "      <td>1</td>\n",
       "      <td>F</td>\n",
       "      <td>53</td>\n",
       "      <td>B</td>\n",
       "      <td>adrenal</td>\n",
       "      <td>NaN</td>\n",
       "      <td>NaN</td>\n",
       "      <td>NaN</td>\n",
       "      <td>yes</td>\n",
       "      <td>yes</td>\n",
       "      <td>yes</td>\n",
       "      <td>yes</td>\n",
       "      <td>NaN</td>\n",
       "      <td>C2A</td>\n",
       "      <td>Mi6</td>\n",
       "      <td>M3</td>\n",
       "    </tr>\n",
       "    <tr>\n",
       "      <th>3</th>\n",
       "      <td>2</td>\n",
       "      <td>2</td>\n",
       "      <td>F</td>\n",
       "      <td>41</td>\n",
       "      <td>B</td>\n",
       "      <td>adrenal</td>\n",
       "      <td>45</td>\n",
       "      <td>NF1</td>\n",
       "      <td>NaN</td>\n",
       "      <td>yes</td>\n",
       "      <td>yes</td>\n",
       "      <td>yes</td>\n",
       "      <td>yes</td>\n",
       "      <td>NaN</td>\n",
       "      <td>C2A</td>\n",
       "      <td>Mi7</td>\n",
       "      <td>M3</td>\n",
       "    </tr>\n",
       "    <tr>\n",
       "      <th>4</th>\n",
       "      <td>3</td>\n",
       "      <td>3</td>\n",
       "      <td>M</td>\n",
       "      <td>43</td>\n",
       "      <td>B</td>\n",
       "      <td>adrenal</td>\n",
       "      <td>50</td>\n",
       "      <td>NaN</td>\n",
       "      <td>NF1</td>\n",
       "      <td>yes</td>\n",
       "      <td>yes</td>\n",
       "      <td>yes</td>\n",
       "      <td>yes</td>\n",
       "      <td>NaN</td>\n",
       "      <td>C2A</td>\n",
       "      <td>Mi5</td>\n",
       "      <td>M3</td>\n",
       "    </tr>\n",
       "  </tbody>\n",
       "</table>\n",
       "</div>"
      ],
      "text/plain": [
       "  Supplementary Data 1. Clinical and genetic characteristics of analyzed PCC/PGL.  \\\n",
       "0                                                NaN                                \n",
       "1                                           Sample #                                \n",
       "2                                                  1                                \n",
       "3                                                  2                                \n",
       "4                                                  3                                \n",
       "\n",
       "  Unnamed: 1 Unnamed: 2                Unnamed: 3         Unnamed: 4  \\\n",
       "0        NaN        NaN                       NaN                NaN   \n",
       "1  Patient #        Sex  Age at diagnosis (years)  Benign/ Malignant   \n",
       "2          1          F                        53                  B   \n",
       "3          2          F                        41                  B   \n",
       "4          3          M                        43                  B   \n",
       "\n",
       "       Unnamed: 5       Unnamed: 6         Unnamed: 7        Unnamed: 8  \\\n",
       "0             NaN              NaN                NaN               NaN   \n",
       "1  Tumor Location  Tumor Size (mm)  Germline Mutation  Somatic Mutation   \n",
       "2         adrenal              NaN                NaN               NaN   \n",
       "3         adrenal               45                NF1               NaN   \n",
       "4         adrenal               50                NaN               NF1   \n",
       "\n",
       "              Unnamed: 9       Unnamed: 10            Unnamed: 11 Unnamed: 12  \\\n",
       "0                    NaN               NaN                    NaN         NaN   \n",
       "1  mRNA expression array  miRNA sequencing  DNA methylation array   SNP array   \n",
       "2                    yes               yes                    yes         yes   \n",
       "3                    yes               yes                    yes         yes   \n",
       "4                    yes               yes                    yes         yes   \n",
       "\n",
       "              Unnamed: 13              Unnamed: 14               Unnamed: 15  \\\n",
       "0                     NaN                      NaN                       NaN   \n",
       "1  Whole exome sequencing  mRNA expression Cluster  miRNA expression Cluster   \n",
       "2                     NaN                      C2A                       Mi6   \n",
       "3                     NaN                      C2A                       Mi7   \n",
       "4                     NaN                      C2A                       Mi5   \n",
       "\n",
       "               Unnamed: 16  \n",
       "0                      NaN  \n",
       "1  DNA methylation Cluster  \n",
       "2                       M3  \n",
       "3                       M3  \n",
       "4                       M3  "
      ]
     },
     "execution_count": 3,
     "metadata": {},
     "output_type": "execute_result"
    }
   ],
   "source": [
    "# Read data set \n",
    "df = pd.read_excel(\"Para_tumor_data.xlsx\")\n",
    "# display first 5 rows\n",
    "df.head()"
   ]
  },
  {
   "cell_type": "code",
   "execution_count": 4,
   "metadata": {},
   "outputs": [],
   "source": [
    "df.rename(columns={'Unnamed: 1': 'Patient Numb.', 'Unnamed: 2': 'Gender', 'Unnamed: 3':'Age', 'Unnamed: 4':'Benign_Malignant','Unnamed: 5':'Tumor_Location'}, inplace =True)"
   ]
  },
  {
   "cell_type": "code",
   "execution_count": 5,
   "metadata": {},
   "outputs": [],
   "source": [
    "df.rename(columns={'Unnamed: 6': 'Tumor_Size_mm', 'Unnamed: 7': 'Germline_Mutation', 'Unnamed: 8':'Somatic_Mutation', 'Unnamed: 9':'mRNA_expression_array','Unnamed: 10':'miRNA_sequencing'}, inplace =True)"
   ]
  },
  {
   "cell_type": "code",
   "execution_count": 6,
   "metadata": {},
   "outputs": [],
   "source": [
    "df.rename(columns={'Unnamed: 11': 'DNA_methylation_array', 'Unnamed: 12': 'SNP_array', 'Unnamed: 13':'Whole_exome_sequencing', 'Unnamed: 14':'mRNA_expression_Cluster','Unnamed: 15':'miRNA_expression_Cluster','Unnamed: 16':'DNA_methylation_Cluster'}, inplace =True)"
   ]
  },
  {
   "cell_type": "code",
   "execution_count": 7,
   "metadata": {},
   "outputs": [
    {
     "data": {
      "text/plain": [
       "Supplementary Data 1. Clinical and genetic characteristics of analyzed PCC/PGL.      1\n",
       "Patient Numb.                                                                        1\n",
       "Gender                                                                               1\n",
       "Age                                                                                  3\n",
       "Benign_Malignant                                                                     3\n",
       "Tumor_Location                                                                       1\n",
       "Tumor_Size_mm                                                                       43\n",
       "Germline_Mutation                                                                  123\n",
       "Somatic_Mutation                                                                   150\n",
       "mRNA_expression_array                                                               15\n",
       "miRNA_sequencing                                                                    31\n",
       "DNA_methylation_array                                                               58\n",
       "SNP_array                                                                           53\n",
       "Whole_exome_sequencing                                                             172\n",
       "mRNA_expression_Cluster                                                             15\n",
       "miRNA_expression_Cluster                                                            31\n",
       "DNA_methylation_Cluster                                                             58\n",
       "dtype: int64"
      ]
     },
     "execution_count": 7,
     "metadata": {},
     "output_type": "execute_result"
    }
   ],
   "source": [
    "df.isnull().sum()"
   ]
  },
  {
   "cell_type": "code",
   "execution_count": 8,
   "metadata": {},
   "outputs": [
    {
     "data": {
      "text/plain": [
       "(204, 17)"
      ]
     },
     "execution_count": 8,
     "metadata": {},
     "output_type": "execute_result"
    }
   ],
   "source": [
    "df.shape"
   ]
  },
  {
   "cell_type": "code",
   "execution_count": 9,
   "metadata": {},
   "outputs": [],
   "source": [
    "# drop column and reassign dataframe\n",
    "df = df.drop('Supplementary Data 1. Clinical and genetic characteristics of analyzed PCC/PGL.', axis=1)"
   ]
  },
  {
   "cell_type": "code",
   "execution_count": 10,
   "metadata": {},
   "outputs": [],
   "source": [
    "# drop row if all values na and reassign dataframe\n",
    "df = df.dropna(axis=0, how='all')"
   ]
  },
  {
   "cell_type": "code",
   "execution_count": 11,
   "metadata": {},
   "outputs": [
    {
     "data": {
      "text/html": [
       "<div>\n",
       "<style scoped>\n",
       "    .dataframe tbody tr th:only-of-type {\n",
       "        vertical-align: middle;\n",
       "    }\n",
       "\n",
       "    .dataframe tbody tr th {\n",
       "        vertical-align: top;\n",
       "    }\n",
       "\n",
       "    .dataframe thead th {\n",
       "        text-align: right;\n",
       "    }\n",
       "</style>\n",
       "<table border=\"1\" class=\"dataframe\">\n",
       "  <thead>\n",
       "    <tr style=\"text-align: right;\">\n",
       "      <th></th>\n",
       "      <th>Patient Numb.</th>\n",
       "      <th>Gender</th>\n",
       "      <th>Age</th>\n",
       "      <th>Benign_Malignant</th>\n",
       "      <th>Tumor_Location</th>\n",
       "      <th>Tumor_Size_mm</th>\n",
       "      <th>Germline_Mutation</th>\n",
       "      <th>Somatic_Mutation</th>\n",
       "      <th>mRNA_expression_array</th>\n",
       "      <th>miRNA_sequencing</th>\n",
       "      <th>DNA_methylation_array</th>\n",
       "      <th>SNP_array</th>\n",
       "      <th>Whole_exome_sequencing</th>\n",
       "      <th>mRNA_expression_Cluster</th>\n",
       "      <th>miRNA_expression_Cluster</th>\n",
       "      <th>DNA_methylation_Cluster</th>\n",
       "    </tr>\n",
       "  </thead>\n",
       "  <tbody>\n",
       "    <tr>\n",
       "      <th>72</th>\n",
       "      <td>68</td>\n",
       "      <td>F</td>\n",
       "      <td>40</td>\n",
       "      <td>M</td>\n",
       "      <td>APG</td>\n",
       "      <td>NaN</td>\n",
       "      <td>NaN</td>\n",
       "      <td>NaN</td>\n",
       "      <td>yes</td>\n",
       "      <td>NaN</td>\n",
       "      <td>NaN</td>\n",
       "      <td>NaN</td>\n",
       "      <td>NaN</td>\n",
       "      <td>C2B</td>\n",
       "      <td>NaN</td>\n",
       "      <td>NaN</td>\n",
       "    </tr>\n",
       "  </tbody>\n",
       "</table>\n",
       "</div>"
      ],
      "text/plain": [
       "   Patient Numb. Gender Age Benign_Malignant Tumor_Location Tumor_Size_mm  \\\n",
       "72            68      F  40                M            APG           NaN   \n",
       "\n",
       "   Germline_Mutation Somatic_Mutation mRNA_expression_array miRNA_sequencing  \\\n",
       "72               NaN              NaN                   yes              NaN   \n",
       "\n",
       "   DNA_methylation_array SNP_array Whole_exome_sequencing  \\\n",
       "72                   NaN       NaN                    NaN   \n",
       "\n",
       "   mRNA_expression_Cluster miRNA_expression_Cluster DNA_methylation_Cluster  \n",
       "72                     C2B                      NaN                     NaN  "
      ]
     },
     "execution_count": 11,
     "metadata": {},
     "output_type": "execute_result"
    }
   ],
   "source": [
    "# locate duplicates if any\n",
    "df.loc[df.duplicated()]"
   ]
  },
  {
   "cell_type": "code",
   "execution_count": 12,
   "metadata": {},
   "outputs": [],
   "source": [
    "# drop duplicate records and reassign the dataframe without the duplicates\n",
    "df = df.drop_duplicates()"
   ]
  },
  {
   "cell_type": "code",
   "execution_count": 13,
   "metadata": {},
   "outputs": [
    {
     "data": {
      "text/html": [
       "<div>\n",
       "<style scoped>\n",
       "    .dataframe tbody tr th:only-of-type {\n",
       "        vertical-align: middle;\n",
       "    }\n",
       "\n",
       "    .dataframe tbody tr th {\n",
       "        vertical-align: top;\n",
       "    }\n",
       "\n",
       "    .dataframe thead th {\n",
       "        text-align: right;\n",
       "    }\n",
       "</style>\n",
       "<table border=\"1\" class=\"dataframe\">\n",
       "  <thead>\n",
       "    <tr style=\"text-align: right;\">\n",
       "      <th></th>\n",
       "      <th>Patient Numb.</th>\n",
       "      <th>Gender</th>\n",
       "      <th>Age</th>\n",
       "      <th>Benign_Malignant</th>\n",
       "      <th>Tumor_Location</th>\n",
       "      <th>Tumor_Size_mm</th>\n",
       "      <th>Germline_Mutation</th>\n",
       "      <th>Somatic_Mutation</th>\n",
       "      <th>mRNA_expression_array</th>\n",
       "      <th>miRNA_sequencing</th>\n",
       "      <th>DNA_methylation_array</th>\n",
       "      <th>SNP_array</th>\n",
       "      <th>Whole_exome_sequencing</th>\n",
       "      <th>mRNA_expression_Cluster</th>\n",
       "      <th>miRNA_expression_Cluster</th>\n",
       "      <th>DNA_methylation_Cluster</th>\n",
       "      <th>Gender_val</th>\n",
       "    </tr>\n",
       "  </thead>\n",
       "  <tbody>\n",
       "    <tr>\n",
       "      <th>1</th>\n",
       "      <td>Patient #</td>\n",
       "      <td>Sex</td>\n",
       "      <td>Age at diagnosis (years)</td>\n",
       "      <td>Benign/ Malignant</td>\n",
       "      <td>Tumor Location</td>\n",
       "      <td>Tumor Size (mm)</td>\n",
       "      <td>Germline Mutation</td>\n",
       "      <td>Somatic Mutation</td>\n",
       "      <td>mRNA expression array</td>\n",
       "      <td>miRNA sequencing</td>\n",
       "      <td>DNA methylation array</td>\n",
       "      <td>SNP array</td>\n",
       "      <td>Whole exome sequencing</td>\n",
       "      <td>mRNA expression Cluster</td>\n",
       "      <td>miRNA expression Cluster</td>\n",
       "      <td>DNA methylation Cluster</td>\n",
       "      <td>NaN</td>\n",
       "    </tr>\n",
       "    <tr>\n",
       "      <th>2</th>\n",
       "      <td>1</td>\n",
       "      <td>F</td>\n",
       "      <td>53</td>\n",
       "      <td>B</td>\n",
       "      <td>adrenal</td>\n",
       "      <td>NaN</td>\n",
       "      <td>NaN</td>\n",
       "      <td>NaN</td>\n",
       "      <td>yes</td>\n",
       "      <td>yes</td>\n",
       "      <td>yes</td>\n",
       "      <td>yes</td>\n",
       "      <td>NaN</td>\n",
       "      <td>C2A</td>\n",
       "      <td>Mi6</td>\n",
       "      <td>M3</td>\n",
       "      <td>10.0</td>\n",
       "    </tr>\n",
       "    <tr>\n",
       "      <th>3</th>\n",
       "      <td>2</td>\n",
       "      <td>F</td>\n",
       "      <td>41</td>\n",
       "      <td>B</td>\n",
       "      <td>adrenal</td>\n",
       "      <td>45</td>\n",
       "      <td>NF1</td>\n",
       "      <td>NaN</td>\n",
       "      <td>yes</td>\n",
       "      <td>yes</td>\n",
       "      <td>yes</td>\n",
       "      <td>yes</td>\n",
       "      <td>NaN</td>\n",
       "      <td>C2A</td>\n",
       "      <td>Mi7</td>\n",
       "      <td>M3</td>\n",
       "      <td>10.0</td>\n",
       "    </tr>\n",
       "    <tr>\n",
       "      <th>4</th>\n",
       "      <td>3</td>\n",
       "      <td>M</td>\n",
       "      <td>43</td>\n",
       "      <td>B</td>\n",
       "      <td>adrenal</td>\n",
       "      <td>50</td>\n",
       "      <td>NaN</td>\n",
       "      <td>NF1</td>\n",
       "      <td>yes</td>\n",
       "      <td>yes</td>\n",
       "      <td>yes</td>\n",
       "      <td>yes</td>\n",
       "      <td>NaN</td>\n",
       "      <td>C2A</td>\n",
       "      <td>Mi5</td>\n",
       "      <td>M3</td>\n",
       "      <td>0.0</td>\n",
       "    </tr>\n",
       "    <tr>\n",
       "      <th>5</th>\n",
       "      <td>4</td>\n",
       "      <td>M</td>\n",
       "      <td>24</td>\n",
       "      <td>B</td>\n",
       "      <td>adrenal</td>\n",
       "      <td>NaN</td>\n",
       "      <td>NaN</td>\n",
       "      <td>NaN</td>\n",
       "      <td>yes</td>\n",
       "      <td>yes</td>\n",
       "      <td>NaN</td>\n",
       "      <td>NaN</td>\n",
       "      <td>NaN</td>\n",
       "      <td>C1B</td>\n",
       "      <td>Mi2</td>\n",
       "      <td>NaN</td>\n",
       "      <td>0.0</td>\n",
       "    </tr>\n",
       "  </tbody>\n",
       "</table>\n",
       "</div>"
      ],
      "text/plain": [
       "  Patient Numb. Gender                       Age   Benign_Malignant  \\\n",
       "1     Patient #    Sex  Age at diagnosis (years)  Benign/ Malignant   \n",
       "2             1      F                        53                  B   \n",
       "3             2      F                        41                  B   \n",
       "4             3      M                        43                  B   \n",
       "5             4      M                        24                  B   \n",
       "\n",
       "   Tumor_Location    Tumor_Size_mm  Germline_Mutation  Somatic_Mutation  \\\n",
       "1  Tumor Location  Tumor Size (mm)  Germline Mutation  Somatic Mutation   \n",
       "2         adrenal              NaN                NaN               NaN   \n",
       "3         adrenal               45                NF1               NaN   \n",
       "4         adrenal               50                NaN               NF1   \n",
       "5         adrenal              NaN                NaN               NaN   \n",
       "\n",
       "   mRNA_expression_array  miRNA_sequencing  DNA_methylation_array  SNP_array  \\\n",
       "1  mRNA expression array  miRNA sequencing  DNA methylation array  SNP array   \n",
       "2                    yes               yes                    yes        yes   \n",
       "3                    yes               yes                    yes        yes   \n",
       "4                    yes               yes                    yes        yes   \n",
       "5                    yes               yes                    NaN        NaN   \n",
       "\n",
       "   Whole_exome_sequencing  mRNA_expression_Cluster  miRNA_expression_Cluster  \\\n",
       "1  Whole exome sequencing  mRNA expression Cluster  miRNA expression Cluster   \n",
       "2                     NaN                      C2A                       Mi6   \n",
       "3                     NaN                      C2A                       Mi7   \n",
       "4                     NaN                      C2A                       Mi5   \n",
       "5                     NaN                      C1B                       Mi2   \n",
       "\n",
       "   DNA_methylation_Cluster  Gender_val  \n",
       "1  DNA methylation Cluster         NaN  \n",
       "2                       M3        10.0  \n",
       "3                       M3        10.0  \n",
       "4                       M3         0.0  \n",
       "5                      NaN         0.0  "
      ]
     },
     "execution_count": 13,
     "metadata": {},
     "output_type": "execute_result"
    }
   ],
   "source": [
    "#create a function that will return 10 if female and 0 if male and create new column Gender_val\n",
    "def num_score(x):\n",
    "    if x=='F':\n",
    "        return 10\n",
    "    if x=='M':\n",
    "        return 0\n",
    "    \n",
    "df['Gender_val'] = df['Gender'].apply(num_score)\n",
    "df.head()"
   ]
  },
  {
   "cell_type": "code",
   "execution_count": 14,
   "metadata": {},
   "outputs": [],
   "source": [
    "# remove first row/record due to column header listing twice not needed\n",
    "df = df.iloc[1:,]"
   ]
  },
  {
   "cell_type": "code",
   "execution_count": 15,
   "metadata": {},
   "outputs": [
    {
     "data": {
      "text/html": [
       "<div>\n",
       "<style scoped>\n",
       "    .dataframe tbody tr th:only-of-type {\n",
       "        vertical-align: middle;\n",
       "    }\n",
       "\n",
       "    .dataframe tbody tr th {\n",
       "        vertical-align: top;\n",
       "    }\n",
       "\n",
       "    .dataframe thead th {\n",
       "        text-align: right;\n",
       "    }\n",
       "</style>\n",
       "<table border=\"1\" class=\"dataframe\">\n",
       "  <thead>\n",
       "    <tr style=\"text-align: right;\">\n",
       "      <th></th>\n",
       "      <th>Patient Numb.</th>\n",
       "      <th>Gender</th>\n",
       "      <th>Age</th>\n",
       "      <th>Benign_Malignant</th>\n",
       "      <th>Tumor_Location</th>\n",
       "      <th>Tumor_Size_mm</th>\n",
       "      <th>Germline_Mutation</th>\n",
       "      <th>Somatic_Mutation</th>\n",
       "      <th>mRNA_expression_array</th>\n",
       "      <th>miRNA_sequencing</th>\n",
       "      <th>DNA_methylation_array</th>\n",
       "      <th>SNP_array</th>\n",
       "      <th>Whole_exome_sequencing</th>\n",
       "      <th>mRNA_expression_Cluster</th>\n",
       "      <th>miRNA_expression_Cluster</th>\n",
       "      <th>DNA_methylation_Cluster</th>\n",
       "      <th>Gender_val</th>\n",
       "    </tr>\n",
       "  </thead>\n",
       "  <tbody>\n",
       "    <tr>\n",
       "      <th>2</th>\n",
       "      <td>1</td>\n",
       "      <td>F</td>\n",
       "      <td>53</td>\n",
       "      <td>B</td>\n",
       "      <td>adrenal</td>\n",
       "      <td>NaN</td>\n",
       "      <td>NaN</td>\n",
       "      <td>NaN</td>\n",
       "      <td>yes</td>\n",
       "      <td>yes</td>\n",
       "      <td>yes</td>\n",
       "      <td>yes</td>\n",
       "      <td>NaN</td>\n",
       "      <td>C2A</td>\n",
       "      <td>Mi6</td>\n",
       "      <td>M3</td>\n",
       "      <td>10.0</td>\n",
       "    </tr>\n",
       "    <tr>\n",
       "      <th>3</th>\n",
       "      <td>2</td>\n",
       "      <td>F</td>\n",
       "      <td>41</td>\n",
       "      <td>B</td>\n",
       "      <td>adrenal</td>\n",
       "      <td>45</td>\n",
       "      <td>NF1</td>\n",
       "      <td>NaN</td>\n",
       "      <td>yes</td>\n",
       "      <td>yes</td>\n",
       "      <td>yes</td>\n",
       "      <td>yes</td>\n",
       "      <td>NaN</td>\n",
       "      <td>C2A</td>\n",
       "      <td>Mi7</td>\n",
       "      <td>M3</td>\n",
       "      <td>10.0</td>\n",
       "    </tr>\n",
       "    <tr>\n",
       "      <th>4</th>\n",
       "      <td>3</td>\n",
       "      <td>M</td>\n",
       "      <td>43</td>\n",
       "      <td>B</td>\n",
       "      <td>adrenal</td>\n",
       "      <td>50</td>\n",
       "      <td>NaN</td>\n",
       "      <td>NF1</td>\n",
       "      <td>yes</td>\n",
       "      <td>yes</td>\n",
       "      <td>yes</td>\n",
       "      <td>yes</td>\n",
       "      <td>NaN</td>\n",
       "      <td>C2A</td>\n",
       "      <td>Mi5</td>\n",
       "      <td>M3</td>\n",
       "      <td>0.0</td>\n",
       "    </tr>\n",
       "    <tr>\n",
       "      <th>5</th>\n",
       "      <td>4</td>\n",
       "      <td>M</td>\n",
       "      <td>24</td>\n",
       "      <td>B</td>\n",
       "      <td>adrenal</td>\n",
       "      <td>NaN</td>\n",
       "      <td>NaN</td>\n",
       "      <td>NaN</td>\n",
       "      <td>yes</td>\n",
       "      <td>yes</td>\n",
       "      <td>NaN</td>\n",
       "      <td>NaN</td>\n",
       "      <td>NaN</td>\n",
       "      <td>C1B</td>\n",
       "      <td>Mi2</td>\n",
       "      <td>NaN</td>\n",
       "      <td>0.0</td>\n",
       "    </tr>\n",
       "    <tr>\n",
       "      <th>6</th>\n",
       "      <td>5</td>\n",
       "      <td>M</td>\n",
       "      <td>45</td>\n",
       "      <td>B</td>\n",
       "      <td>adrenal</td>\n",
       "      <td>NaN</td>\n",
       "      <td>NaN</td>\n",
       "      <td>VHL</td>\n",
       "      <td>yes</td>\n",
       "      <td>yes</td>\n",
       "      <td>yes</td>\n",
       "      <td>yes</td>\n",
       "      <td>NaN</td>\n",
       "      <td>C1B</td>\n",
       "      <td>Mi4</td>\n",
       "      <td>M3</td>\n",
       "      <td>0.0</td>\n",
       "    </tr>\n",
       "  </tbody>\n",
       "</table>\n",
       "</div>"
      ],
      "text/plain": [
       "  Patient Numb. Gender Age Benign_Malignant Tumor_Location Tumor_Size_mm  \\\n",
       "2             1      F  53                B        adrenal           NaN   \n",
       "3             2      F  41                B        adrenal            45   \n",
       "4             3      M  43                B        adrenal            50   \n",
       "5             4      M  24                B        adrenal           NaN   \n",
       "6             5      M  45                B        adrenal           NaN   \n",
       "\n",
       "  Germline_Mutation Somatic_Mutation mRNA_expression_array miRNA_sequencing  \\\n",
       "2               NaN              NaN                   yes              yes   \n",
       "3               NF1              NaN                   yes              yes   \n",
       "4               NaN              NF1                   yes              yes   \n",
       "5               NaN              NaN                   yes              yes   \n",
       "6               NaN              VHL                   yes              yes   \n",
       "\n",
       "  DNA_methylation_array SNP_array Whole_exome_sequencing  \\\n",
       "2                   yes       yes                    NaN   \n",
       "3                   yes       yes                    NaN   \n",
       "4                   yes       yes                    NaN   \n",
       "5                   NaN       NaN                    NaN   \n",
       "6                   yes       yes                    NaN   \n",
       "\n",
       "  mRNA_expression_Cluster miRNA_expression_Cluster DNA_methylation_Cluster  \\\n",
       "2                     C2A                      Mi6                      M3   \n",
       "3                     C2A                      Mi7                      M3   \n",
       "4                     C2A                      Mi5                      M3   \n",
       "5                     C1B                      Mi2                     NaN   \n",
       "6                     C1B                      Mi4                      M3   \n",
       "\n",
       "   Gender_val  \n",
       "2        10.0  \n",
       "3        10.0  \n",
       "4         0.0  \n",
       "5         0.0  \n",
       "6         0.0  "
      ]
     },
     "execution_count": 15,
     "metadata": {},
     "output_type": "execute_result"
    }
   ],
   "source": [
    "# verify the row was removed as intended\n",
    "df.head()"
   ]
  },
  {
   "cell_type": "code",
   "execution_count": 16,
   "metadata": {},
   "outputs": [
    {
     "data": {
      "text/html": [
       "<div>\n",
       "<style scoped>\n",
       "    .dataframe tbody tr th:only-of-type {\n",
       "        vertical-align: middle;\n",
       "    }\n",
       "\n",
       "    .dataframe tbody tr th {\n",
       "        vertical-align: top;\n",
       "    }\n",
       "\n",
       "    .dataframe thead th {\n",
       "        text-align: right;\n",
       "    }\n",
       "</style>\n",
       "<table border=\"1\" class=\"dataframe\">\n",
       "  <thead>\n",
       "    <tr style=\"text-align: right;\">\n",
       "      <th></th>\n",
       "      <th>Patient Numb.</th>\n",
       "      <th>Gender</th>\n",
       "      <th>Age</th>\n",
       "      <th>Benign_Malignant</th>\n",
       "      <th>Tumor_Location</th>\n",
       "      <th>Tumor_Size_mm</th>\n",
       "      <th>Germline_Mutation</th>\n",
       "      <th>Somatic_Mutation</th>\n",
       "      <th>mRNA_expression_array</th>\n",
       "      <th>miRNA_sequencing</th>\n",
       "      <th>DNA_methylation_array</th>\n",
       "      <th>SNP_array</th>\n",
       "      <th>Whole_exome_sequencing</th>\n",
       "      <th>mRNA_expression_Cluster</th>\n",
       "      <th>miRNA_expression_Cluster</th>\n",
       "      <th>DNA_methylation_Cluster</th>\n",
       "      <th>Gender_val</th>\n",
       "      <th>Benign_Mal_score</th>\n",
       "    </tr>\n",
       "  </thead>\n",
       "  <tbody>\n",
       "    <tr>\n",
       "      <th>2</th>\n",
       "      <td>1</td>\n",
       "      <td>F</td>\n",
       "      <td>53</td>\n",
       "      <td>B</td>\n",
       "      <td>adrenal</td>\n",
       "      <td>NaN</td>\n",
       "      <td>NaN</td>\n",
       "      <td>NaN</td>\n",
       "      <td>yes</td>\n",
       "      <td>yes</td>\n",
       "      <td>yes</td>\n",
       "      <td>yes</td>\n",
       "      <td>NaN</td>\n",
       "      <td>C2A</td>\n",
       "      <td>Mi6</td>\n",
       "      <td>M3</td>\n",
       "      <td>10.0</td>\n",
       "      <td>1.0</td>\n",
       "    </tr>\n",
       "    <tr>\n",
       "      <th>3</th>\n",
       "      <td>2</td>\n",
       "      <td>F</td>\n",
       "      <td>41</td>\n",
       "      <td>B</td>\n",
       "      <td>adrenal</td>\n",
       "      <td>45</td>\n",
       "      <td>NF1</td>\n",
       "      <td>NaN</td>\n",
       "      <td>yes</td>\n",
       "      <td>yes</td>\n",
       "      <td>yes</td>\n",
       "      <td>yes</td>\n",
       "      <td>NaN</td>\n",
       "      <td>C2A</td>\n",
       "      <td>Mi7</td>\n",
       "      <td>M3</td>\n",
       "      <td>10.0</td>\n",
       "      <td>1.0</td>\n",
       "    </tr>\n",
       "    <tr>\n",
       "      <th>4</th>\n",
       "      <td>3</td>\n",
       "      <td>M</td>\n",
       "      <td>43</td>\n",
       "      <td>B</td>\n",
       "      <td>adrenal</td>\n",
       "      <td>50</td>\n",
       "      <td>NaN</td>\n",
       "      <td>NF1</td>\n",
       "      <td>yes</td>\n",
       "      <td>yes</td>\n",
       "      <td>yes</td>\n",
       "      <td>yes</td>\n",
       "      <td>NaN</td>\n",
       "      <td>C2A</td>\n",
       "      <td>Mi5</td>\n",
       "      <td>M3</td>\n",
       "      <td>0.0</td>\n",
       "      <td>1.0</td>\n",
       "    </tr>\n",
       "    <tr>\n",
       "      <th>5</th>\n",
       "      <td>4</td>\n",
       "      <td>M</td>\n",
       "      <td>24</td>\n",
       "      <td>B</td>\n",
       "      <td>adrenal</td>\n",
       "      <td>NaN</td>\n",
       "      <td>NaN</td>\n",
       "      <td>NaN</td>\n",
       "      <td>yes</td>\n",
       "      <td>yes</td>\n",
       "      <td>NaN</td>\n",
       "      <td>NaN</td>\n",
       "      <td>NaN</td>\n",
       "      <td>C1B</td>\n",
       "      <td>Mi2</td>\n",
       "      <td>NaN</td>\n",
       "      <td>0.0</td>\n",
       "      <td>1.0</td>\n",
       "    </tr>\n",
       "    <tr>\n",
       "      <th>6</th>\n",
       "      <td>5</td>\n",
       "      <td>M</td>\n",
       "      <td>45</td>\n",
       "      <td>B</td>\n",
       "      <td>adrenal</td>\n",
       "      <td>NaN</td>\n",
       "      <td>NaN</td>\n",
       "      <td>VHL</td>\n",
       "      <td>yes</td>\n",
       "      <td>yes</td>\n",
       "      <td>yes</td>\n",
       "      <td>yes</td>\n",
       "      <td>NaN</td>\n",
       "      <td>C1B</td>\n",
       "      <td>Mi4</td>\n",
       "      <td>M3</td>\n",
       "      <td>0.0</td>\n",
       "      <td>1.0</td>\n",
       "    </tr>\n",
       "  </tbody>\n",
       "</table>\n",
       "</div>"
      ],
      "text/plain": [
       "  Patient Numb. Gender Age Benign_Malignant Tumor_Location Tumor_Size_mm  \\\n",
       "2             1      F  53                B        adrenal           NaN   \n",
       "3             2      F  41                B        adrenal            45   \n",
       "4             3      M  43                B        adrenal            50   \n",
       "5             4      M  24                B        adrenal           NaN   \n",
       "6             5      M  45                B        adrenal           NaN   \n",
       "\n",
       "  Germline_Mutation Somatic_Mutation mRNA_expression_array miRNA_sequencing  \\\n",
       "2               NaN              NaN                   yes              yes   \n",
       "3               NF1              NaN                   yes              yes   \n",
       "4               NaN              NF1                   yes              yes   \n",
       "5               NaN              NaN                   yes              yes   \n",
       "6               NaN              VHL                   yes              yes   \n",
       "\n",
       "  DNA_methylation_array SNP_array Whole_exome_sequencing  \\\n",
       "2                   yes       yes                    NaN   \n",
       "3                   yes       yes                    NaN   \n",
       "4                   yes       yes                    NaN   \n",
       "5                   NaN       NaN                    NaN   \n",
       "6                   yes       yes                    NaN   \n",
       "\n",
       "  mRNA_expression_Cluster miRNA_expression_Cluster DNA_methylation_Cluster  \\\n",
       "2                     C2A                      Mi6                      M3   \n",
       "3                     C2A                      Mi7                      M3   \n",
       "4                     C2A                      Mi5                      M3   \n",
       "5                     C1B                      Mi2                     NaN   \n",
       "6                     C1B                      Mi4                      M3   \n",
       "\n",
       "   Gender_val  Benign_Mal_score  \n",
       "2        10.0               1.0  \n",
       "3        10.0               1.0  \n",
       "4         0.0               1.0  \n",
       "5         0.0               1.0  \n",
       "6         0.0               1.0  "
      ]
     },
     "execution_count": 16,
     "metadata": {},
     "output_type": "execute_result"
    }
   ],
   "source": [
    "# create a function to assign a value if tumor is Benign or Malignant and create new column Benign_Mal_score\n",
    "def Beg_Mal_score(x):\n",
    "    if x=='B':\n",
    "        return 1\n",
    "    if x=='M':\n",
    "        return 0\n",
    "    \n",
    "df['Benign_Mal_score'] = df['Benign_Malignant'].apply(Beg_Mal_score)\n",
    "df.head()"
   ]
  },
  {
   "cell_type": "code",
   "execution_count": 17,
   "metadata": {},
   "outputs": [
    {
     "data": {
      "text/plain": [
       "(201, 18)"
      ]
     },
     "execution_count": 17,
     "metadata": {},
     "output_type": "execute_result"
    }
   ],
   "source": [
    "# verify the shape of the data\n",
    "df.shape"
   ]
  },
  {
   "cell_type": "code",
   "execution_count": 18,
   "metadata": {},
   "outputs": [],
   "source": [
    "#replace na values with 0\n",
    "df = df.fillna(0)"
   ]
  },
  {
   "cell_type": "code",
   "execution_count": 19,
   "metadata": {},
   "outputs": [
    {
     "data": {
      "text/html": [
       "<div>\n",
       "<style scoped>\n",
       "    .dataframe tbody tr th:only-of-type {\n",
       "        vertical-align: middle;\n",
       "    }\n",
       "\n",
       "    .dataframe tbody tr th {\n",
       "        vertical-align: top;\n",
       "    }\n",
       "\n",
       "    .dataframe thead th {\n",
       "        text-align: right;\n",
       "    }\n",
       "</style>\n",
       "<table border=\"1\" class=\"dataframe\">\n",
       "  <thead>\n",
       "    <tr style=\"text-align: right;\">\n",
       "      <th></th>\n",
       "      <th>Patient Numb.</th>\n",
       "      <th>Gender</th>\n",
       "      <th>Age</th>\n",
       "      <th>Benign_Malignant</th>\n",
       "      <th>Tumor_Location</th>\n",
       "      <th>Tumor_Size_mm</th>\n",
       "      <th>Germline_Mutation</th>\n",
       "      <th>Somatic_Mutation</th>\n",
       "      <th>mRNA_expression_array</th>\n",
       "      <th>miRNA_sequencing</th>\n",
       "      <th>DNA_methylation_array</th>\n",
       "      <th>SNP_array</th>\n",
       "      <th>Whole_exome_sequencing</th>\n",
       "      <th>mRNA_expression_Cluster</th>\n",
       "      <th>miRNA_expression_Cluster</th>\n",
       "      <th>DNA_methylation_Cluster</th>\n",
       "      <th>Gender_val</th>\n",
       "      <th>Benign_Mal_score</th>\n",
       "      <th>Age_Group</th>\n",
       "    </tr>\n",
       "  </thead>\n",
       "  <tbody>\n",
       "    <tr>\n",
       "      <th>2</th>\n",
       "      <td>1</td>\n",
       "      <td>F</td>\n",
       "      <td>53</td>\n",
       "      <td>B</td>\n",
       "      <td>adrenal</td>\n",
       "      <td>0</td>\n",
       "      <td>0</td>\n",
       "      <td>0</td>\n",
       "      <td>yes</td>\n",
       "      <td>yes</td>\n",
       "      <td>yes</td>\n",
       "      <td>yes</td>\n",
       "      <td>0</td>\n",
       "      <td>C2A</td>\n",
       "      <td>Mi6</td>\n",
       "      <td>M3</td>\n",
       "      <td>10.0</td>\n",
       "      <td>1.0</td>\n",
       "      <td>6</td>\n",
       "    </tr>\n",
       "    <tr>\n",
       "      <th>3</th>\n",
       "      <td>2</td>\n",
       "      <td>F</td>\n",
       "      <td>41</td>\n",
       "      <td>B</td>\n",
       "      <td>adrenal</td>\n",
       "      <td>45</td>\n",
       "      <td>NF1</td>\n",
       "      <td>0</td>\n",
       "      <td>yes</td>\n",
       "      <td>yes</td>\n",
       "      <td>yes</td>\n",
       "      <td>yes</td>\n",
       "      <td>0</td>\n",
       "      <td>C2A</td>\n",
       "      <td>Mi7</td>\n",
       "      <td>M3</td>\n",
       "      <td>10.0</td>\n",
       "      <td>1.0</td>\n",
       "      <td>5</td>\n",
       "    </tr>\n",
       "    <tr>\n",
       "      <th>4</th>\n",
       "      <td>3</td>\n",
       "      <td>M</td>\n",
       "      <td>43</td>\n",
       "      <td>B</td>\n",
       "      <td>adrenal</td>\n",
       "      <td>50</td>\n",
       "      <td>0</td>\n",
       "      <td>NF1</td>\n",
       "      <td>yes</td>\n",
       "      <td>yes</td>\n",
       "      <td>yes</td>\n",
       "      <td>yes</td>\n",
       "      <td>0</td>\n",
       "      <td>C2A</td>\n",
       "      <td>Mi5</td>\n",
       "      <td>M3</td>\n",
       "      <td>0.0</td>\n",
       "      <td>1.0</td>\n",
       "      <td>5</td>\n",
       "    </tr>\n",
       "    <tr>\n",
       "      <th>5</th>\n",
       "      <td>4</td>\n",
       "      <td>M</td>\n",
       "      <td>24</td>\n",
       "      <td>B</td>\n",
       "      <td>adrenal</td>\n",
       "      <td>0</td>\n",
       "      <td>0</td>\n",
       "      <td>0</td>\n",
       "      <td>yes</td>\n",
       "      <td>yes</td>\n",
       "      <td>0</td>\n",
       "      <td>0</td>\n",
       "      <td>0</td>\n",
       "      <td>C1B</td>\n",
       "      <td>Mi2</td>\n",
       "      <td>0</td>\n",
       "      <td>0.0</td>\n",
       "      <td>1.0</td>\n",
       "      <td>3</td>\n",
       "    </tr>\n",
       "    <tr>\n",
       "      <th>6</th>\n",
       "      <td>5</td>\n",
       "      <td>M</td>\n",
       "      <td>45</td>\n",
       "      <td>B</td>\n",
       "      <td>adrenal</td>\n",
       "      <td>0</td>\n",
       "      <td>0</td>\n",
       "      <td>VHL</td>\n",
       "      <td>yes</td>\n",
       "      <td>yes</td>\n",
       "      <td>yes</td>\n",
       "      <td>yes</td>\n",
       "      <td>0</td>\n",
       "      <td>C1B</td>\n",
       "      <td>Mi4</td>\n",
       "      <td>M3</td>\n",
       "      <td>0.0</td>\n",
       "      <td>1.0</td>\n",
       "      <td>5</td>\n",
       "    </tr>\n",
       "  </tbody>\n",
       "</table>\n",
       "</div>"
      ],
      "text/plain": [
       "   Patient Numb. Gender  Age Benign_Malignant Tumor_Location  Tumor_Size_mm  \\\n",
       "2              1      F   53                B        adrenal              0   \n",
       "3              2      F   41                B        adrenal             45   \n",
       "4              3      M   43                B        adrenal             50   \n",
       "5              4      M   24                B        adrenal              0   \n",
       "6              5      M   45                B        adrenal              0   \n",
       "\n",
       "  Germline_Mutation Somatic_Mutation mRNA_expression_array miRNA_sequencing  \\\n",
       "2                 0                0                   yes              yes   \n",
       "3               NF1                0                   yes              yes   \n",
       "4                 0              NF1                   yes              yes   \n",
       "5                 0                0                   yes              yes   \n",
       "6                 0              VHL                   yes              yes   \n",
       "\n",
       "  DNA_methylation_array SNP_array Whole_exome_sequencing  \\\n",
       "2                   yes       yes                      0   \n",
       "3                   yes       yes                      0   \n",
       "4                   yes       yes                      0   \n",
       "5                     0         0                      0   \n",
       "6                   yes       yes                      0   \n",
       "\n",
       "  mRNA_expression_Cluster miRNA_expression_Cluster DNA_methylation_Cluster  \\\n",
       "2                     C2A                      Mi6                      M3   \n",
       "3                     C2A                      Mi7                      M3   \n",
       "4                     C2A                      Mi5                      M3   \n",
       "5                     C1B                      Mi2                       0   \n",
       "6                     C1B                      Mi4                      M3   \n",
       "\n",
       "   Gender_val  Benign_Mal_score Age_Group  \n",
       "2        10.0               1.0         6  \n",
       "3        10.0               1.0         5  \n",
       "4         0.0               1.0         5  \n",
       "5         0.0               1.0         3  \n",
       "6         0.0               1.0         5  "
      ]
     },
     "execution_count": 19,
     "metadata": {},
     "output_type": "execute_result"
    }
   ],
   "source": [
    "#Define bins as 0-59, 60-69, 70-79, 80-89, 90-100\n",
    "bins = [0, 10, 20, 30, 40, 50, 60, 70, 100]\n",
    "\n",
    "# Create groups for age category giving a numerical value\n",
    "#Age 0-9=1, Age 10-19=2, Age 20-29=3, Age 30-39=4, Age 40-49=5, Age 50-59=6, Age 60-69=7, Age 70-100=8\n",
    "group_names = [ 1, 2, 3, 4, 5, 6, 7, 8]\n",
    "\n",
    "#make new column for Age Group\n",
    "df['Age_Group'] = pd.cut(df['Age'], bins, labels=group_names)\n",
    "df.head()"
   ]
  },
  {
   "cell_type": "code",
   "execution_count": 20,
   "metadata": {},
   "outputs": [
    {
     "data": {
      "text/html": [
       "<div>\n",
       "<style scoped>\n",
       "    .dataframe tbody tr th:only-of-type {\n",
       "        vertical-align: middle;\n",
       "    }\n",
       "\n",
       "    .dataframe tbody tr th {\n",
       "        vertical-align: top;\n",
       "    }\n",
       "\n",
       "    .dataframe thead th {\n",
       "        text-align: right;\n",
       "    }\n",
       "</style>\n",
       "<table border=\"1\" class=\"dataframe\">\n",
       "  <thead>\n",
       "    <tr style=\"text-align: right;\">\n",
       "      <th></th>\n",
       "      <th>Patient Numb.</th>\n",
       "      <th>Age</th>\n",
       "      <th>Tumor_Size_mm</th>\n",
       "      <th>Gender_val</th>\n",
       "      <th>Benign_Mal_score</th>\n",
       "    </tr>\n",
       "  </thead>\n",
       "  <tbody>\n",
       "    <tr>\n",
       "      <th>count</th>\n",
       "      <td>201.000000</td>\n",
       "      <td>201.000000</td>\n",
       "      <td>201.000000</td>\n",
       "      <td>201.000000</td>\n",
       "      <td>201.000000</td>\n",
       "    </tr>\n",
       "    <tr>\n",
       "      <th>mean</th>\n",
       "      <td>93.940299</td>\n",
       "      <td>41.064677</td>\n",
       "      <td>39.203980</td>\n",
       "      <td>6.019900</td>\n",
       "      <td>0.860697</td>\n",
       "    </tr>\n",
       "    <tr>\n",
       "      <th>std</th>\n",
       "      <td>55.200511</td>\n",
       "      <td>16.500327</td>\n",
       "      <td>28.307829</td>\n",
       "      <td>4.907097</td>\n",
       "      <td>0.347128</td>\n",
       "    </tr>\n",
       "    <tr>\n",
       "      <th>min</th>\n",
       "      <td>1.000000</td>\n",
       "      <td>0.000000</td>\n",
       "      <td>0.000000</td>\n",
       "      <td>0.000000</td>\n",
       "      <td>0.000000</td>\n",
       "    </tr>\n",
       "    <tr>\n",
       "      <th>25%</th>\n",
       "      <td>45.000000</td>\n",
       "      <td>28.000000</td>\n",
       "      <td>21.000000</td>\n",
       "      <td>0.000000</td>\n",
       "      <td>1.000000</td>\n",
       "    </tr>\n",
       "    <tr>\n",
       "      <th>50%</th>\n",
       "      <td>93.000000</td>\n",
       "      <td>41.000000</td>\n",
       "      <td>40.000000</td>\n",
       "      <td>10.000000</td>\n",
       "      <td>1.000000</td>\n",
       "    </tr>\n",
       "    <tr>\n",
       "      <th>75%</th>\n",
       "      <td>141.000000</td>\n",
       "      <td>53.000000</td>\n",
       "      <td>55.000000</td>\n",
       "      <td>10.000000</td>\n",
       "      <td>1.000000</td>\n",
       "    </tr>\n",
       "    <tr>\n",
       "      <th>max</th>\n",
       "      <td>190.000000</td>\n",
       "      <td>82.000000</td>\n",
       "      <td>130.000000</td>\n",
       "      <td>10.000000</td>\n",
       "      <td>1.000000</td>\n",
       "    </tr>\n",
       "  </tbody>\n",
       "</table>\n",
       "</div>"
      ],
      "text/plain": [
       "       Patient Numb.         Age  Tumor_Size_mm  Gender_val  Benign_Mal_score\n",
       "count     201.000000  201.000000     201.000000  201.000000        201.000000\n",
       "mean       93.940299   41.064677      39.203980    6.019900          0.860697\n",
       "std        55.200511   16.500327      28.307829    4.907097          0.347128\n",
       "min         1.000000    0.000000       0.000000    0.000000          0.000000\n",
       "25%        45.000000   28.000000      21.000000    0.000000          1.000000\n",
       "50%        93.000000   41.000000      40.000000   10.000000          1.000000\n",
       "75%       141.000000   53.000000      55.000000   10.000000          1.000000\n",
       "max       190.000000   82.000000     130.000000   10.000000          1.000000"
      ]
     },
     "execution_count": 20,
     "metadata": {},
     "output_type": "execute_result"
    }
   ],
   "source": [
    "df.describe()"
   ]
  },
  {
   "cell_type": "code",
   "execution_count": 21,
   "metadata": {},
   "outputs": [
    {
     "data": {
      "text/plain": [
       "<matplotlib.axes._subplots.AxesSubplot at 0x26f1c0a4588>"
      ]
     },
     "execution_count": 21,
     "metadata": {},
     "output_type": "execute_result"
    },
    {
     "data": {
      "image/png": "[encoded data removed]",
      "text/plain": [
       "<Figure size 432x288 with 1 Axes>"
      ]
     },
     "metadata": {
      "needs_background": "light"
     },
     "output_type": "display_data"
    }
   ],
   "source": [
    "df.plot()"
   ]
  },
  {
   "cell_type": "code",
   "execution_count": 22,
   "metadata": {},
   "outputs": [
    {
     "name": "stderr",
     "output_type": "stream",
     "text": [
      "C:\\Users\\D\\Anaconda3\\lib\\site-packages\\scipy\\stats\\stats.py:1713: FutureWarning: Using a non-tuple sequence for multidimensional indexing is deprecated; use `arr[tuple(seq)]` instead of `arr[seq]`. In the future this will be interpreted as an array index, `arr[np.array(seq)]`, which will result either in an error or a different result.\n",
      "  return np.add.reduce(sorted[indexer] * weights, axis=axis) / sumval\n"
     ]
    },
    {
     "data": {
      "text/plain": [
       "<seaborn.axisgrid.FacetGrid at 0x26f1d155630>"
      ]
     },
     "execution_count": 22,
     "metadata": {},
     "output_type": "execute_result"
    },
    {
     "data": {
      "image/png": "[encoded data removed]",
      "text/plain": [
       "<Figure size 404.875x360 with 1 Axes>"
      ]
     },
     "metadata": {
      "needs_background": "light"
     },
     "output_type": "display_data"
    }
   ],
   "source": [
    "sns.lmplot(x='Age', y='Tumor_Size_mm', hue='Gender', x_bins=10, data=df)"
   ]
  },
  {
   "cell_type": "code",
   "execution_count": 23,
   "metadata": {},
   "outputs": [
    {
     "data": {
      "text/plain": [
       "<matplotlib.axes._subplots.AxesSubplot at 0x26f1d4ea908>"
      ]
     },
     "execution_count": 23,
     "metadata": {},
     "output_type": "execute_result"
    },
    {
     "data": {
      "image/png": "[encoded data removed]",
      "text/plain": [
       "<Figure size 432x288 with 1 Axes>"
      ]
     },
     "metadata": {
      "needs_background": "light"
     },
     "output_type": "display_data"
    }
   ],
   "source": [
    "#create a histogram \n",
    "sns.distplot(df['Age'])"
   ]
  },
  {
   "cell_type": "code",
   "execution_count": 24,
   "metadata": {},
   "outputs": [
    {
     "data": {
      "text/plain": [
       "41.06467661691542"
      ]
     },
     "execution_count": 24,
     "metadata": {},
     "output_type": "execute_result"
    }
   ],
   "source": [
    "df['Age'].mean()"
   ]
  },
  {
   "cell_type": "code",
   "execution_count": 25,
   "metadata": {},
   "outputs": [
    {
     "data": {
      "text/plain": [
       "<matplotlib.axes._subplots.AxesSubplot at 0x26f1d4ea898>"
      ]
     },
     "execution_count": 25,
     "metadata": {},
     "output_type": "execute_result"
    },
    {
     "data": {
      "image/png": "[encoded data removed]",
      "text/plain": [
       "<Figure size 432x288 with 1 Axes>"
      ]
     },
     "metadata": {
      "needs_background": "light"
     },
     "output_type": "display_data"
    }
   ],
   "source": [
    "#create a histogram for tumor sizes > 0\n",
    "df2 = df[df.Tumor_Size_mm > 0]\n",
    "sns.distplot(df2['Tumor_Size_mm'])"
   ]
  },
  {
   "cell_type": "code",
   "execution_count": 26,
   "metadata": {},
   "outputs": [
    {
     "data": {
      "text/plain": [
       "44.0"
      ]
     },
     "execution_count": 26,
     "metadata": {},
     "output_type": "execute_result"
    }
   ],
   "source": [
    "df2 = df[df.Tumor_Size_mm > 0]\n",
    "df2['Tumor_Size_mm'].median()"
   ]
  },
  {
   "cell_type": "code",
   "execution_count": 27,
   "metadata": {},
   "outputs": [
    {
     "data": {
      "text/plain": [
       "<matplotlib.axes._subplots.AxesSubplot at 0x26f1d5d8a58>"
      ]
     },
     "execution_count": 27,
     "metadata": {},
     "output_type": "execute_result"
    },
    {
     "data": {
      "image/png": "[encoded data removed]",
      "text/plain": [
       "<Figure size 432x288 with 1 Axes>"
      ]
     },
     "metadata": {
      "needs_background": "light"
     },
     "output_type": "display_data"
    }
   ],
   "source": [
    "# swarm plot showing age groups with relationship to tumor size splitting out the differences in gender\n",
    "df2 = df[df.Tumor_Size_mm > 0]\n",
    "sns.swarmplot(x=\"Age_Group\", y=\"Tumor_Size_mm\", hue='Gender', data=df2)"
   ]
  },
  {
   "cell_type": "code",
   "execution_count": 29,
   "metadata": {},
   "outputs": [
    {
     "data": {
      "text/plain": [
       "<matplotlib.axes._subplots.AxesSubplot at 0x26f1d6f35f8>"
      ]
     },
     "execution_count": 29,
     "metadata": {},
     "output_type": "execute_result"
    },
    {
     "data": {
      "image/png": "[encoded data removed]",
      "text/plain": [
       "<Figure size 432x288 with 2 Axes>"
      ]
     },
     "metadata": {
      "needs_background": "light"
     },
     "output_type": "display_data"
    }
   ],
   "source": [
    "corr = df.corr()\n",
    "\n",
    "sns.heatmap(corr, vmin=-1, annot=True)"
   ]
  },
  {
   "cell_type": "code",
   "execution_count": 30,
   "metadata": {},
   "outputs": [],
   "source": [
    "result = smf.ols('Tumor_Size_mm ~ Age + Gender_val + Benign_Mal_score -1', data=df).fit()"
   ]
  },
  {
   "cell_type": "code",
   "execution_count": 31,
   "metadata": {},
   "outputs": [
    {
     "data": {
      "text/html": [
       "<table class=\"simpletable\">\n",
       "<caption>OLS Regression Results</caption>\n",
       "<tr>\n",
       "  <th>Dep. Variable:</th>      <td>Tumor_Size_mm</td>  <th>  R-squared:         </th> <td>   0.622</td>\n",
       "</tr>\n",
       "<tr>\n",
       "  <th>Model:</th>                   <td>OLS</td>       <th>  Adj. R-squared:    </th> <td>   0.617</td>\n",
       "</tr>\n",
       "<tr>\n",
       "  <th>Method:</th>             <td>Least Squares</td>  <th>  F-statistic:       </th> <td>   108.8</td>\n",
       "</tr>\n",
       "<tr>\n",
       "  <th>Date:</th>             <td>Wed, 20 Mar 2019</td> <th>  Prob (F-statistic):</th> <td>1.19e-41</td>\n",
       "</tr>\n",
       "<tr>\n",
       "  <th>Time:</th>                 <td>20:39:12</td>     <th>  Log-Likelihood:    </th> <td> -966.75</td>\n",
       "</tr>\n",
       "<tr>\n",
       "  <th>No. Observations:</th>      <td>   201</td>      <th>  AIC:               </th> <td>   1939.</td>\n",
       "</tr>\n",
       "<tr>\n",
       "  <th>Df Residuals:</th>          <td>   198</td>      <th>  BIC:               </th> <td>   1949.</td>\n",
       "</tr>\n",
       "<tr>\n",
       "  <th>Df Model:</th>              <td>     3</td>      <th>                     </th>     <td> </td>   \n",
       "</tr>\n",
       "<tr>\n",
       "  <th>Covariance Type:</th>      <td>nonrobust</td>    <th>                     </th>     <td> </td>   \n",
       "</tr>\n",
       "</table>\n",
       "<table class=\"simpletable\">\n",
       "<tr>\n",
       "          <td></td>            <th>coef</th>     <th>std err</th>      <th>t</th>      <th>P>|t|</th>  <th>[0.025</th>    <th>0.975]</th>  \n",
       "</tr>\n",
       "<tr>\n",
       "  <th>Age</th>              <td>    0.5514</td> <td>    0.106</td> <td>    5.221</td> <td> 0.000</td> <td>    0.343</td> <td>    0.760</td>\n",
       "</tr>\n",
       "<tr>\n",
       "  <th>Gender_val</th>       <td>    0.8470</td> <td>    0.409</td> <td>    2.070</td> <td> 0.040</td> <td>    0.040</td> <td>    1.654</td>\n",
       "</tr>\n",
       "<tr>\n",
       "  <th>Benign_Mal_score</th> <td>   10.1166</td> <td>    5.041</td> <td>    2.007</td> <td> 0.046</td> <td>    0.175</td> <td>   20.058</td>\n",
       "</tr>\n",
       "</table>\n",
       "<table class=\"simpletable\">\n",
       "<tr>\n",
       "  <th>Omnibus:</th>       <td> 9.612</td> <th>  Durbin-Watson:     </th> <td>   1.768</td>\n",
       "</tr>\n",
       "<tr>\n",
       "  <th>Prob(Omnibus):</th> <td> 0.008</td> <th>  Jarque-Bera (JB):  </th> <td>  10.014</td>\n",
       "</tr>\n",
       "<tr>\n",
       "  <th>Skew:</th>          <td> 0.547</td> <th>  Prob(JB):          </th> <td> 0.00669</td>\n",
       "</tr>\n",
       "<tr>\n",
       "  <th>Kurtosis:</th>      <td> 3.021</td> <th>  Cond. No.          </th> <td>    107.</td>\n",
       "</tr>\n",
       "</table><br/><br/>Warnings:<br/>[1] Standard Errors assume that the covariance matrix of the errors is correctly specified."
      ],
      "text/plain": [
       "<class 'statsmodels.iolib.summary.Summary'>\n",
       "\"\"\"\n",
       "                            OLS Regression Results                            \n",
       "==============================================================================\n",
       "Dep. Variable:          Tumor_Size_mm   R-squared:                       0.622\n",
       "Model:                            OLS   Adj. R-squared:                  0.617\n",
       "Method:                 Least Squares   F-statistic:                     108.8\n",
       "Date:                Wed, 20 Mar 2019   Prob (F-statistic):           1.19e-41\n",
       "Time:                        20:39:12   Log-Likelihood:                -966.75\n",
       "No. Observations:                 201   AIC:                             1939.\n",
       "Df Residuals:                     198   BIC:                             1949.\n",
       "Df Model:                           3                                         \n",
       "Covariance Type:            nonrobust                                         \n",
       "====================================================================================\n",
       "                       coef    std err          t      P>|t|      [0.025      0.975]\n",
       "------------------------------------------------------------------------------------\n",
       "Age                  0.5514      0.106      5.221      0.000       0.343       0.760\n",
       "Gender_val           0.8470      0.409      2.070      0.040       0.040       1.654\n",
       "Benign_Mal_score    10.1166      5.041      2.007      0.046       0.175      20.058\n",
       "==============================================================================\n",
       "Omnibus:                        9.612   Durbin-Watson:                   1.768\n",
       "Prob(Omnibus):                  0.008   Jarque-Bera (JB):               10.014\n",
       "Skew:                           0.547   Prob(JB):                      0.00669\n",
       "Kurtosis:                       3.021   Cond. No.                         107.\n",
       "==============================================================================\n",
       "\n",
       "Warnings:\n",
       "[1] Standard Errors assume that the covariance matrix of the errors is correctly specified.\n",
       "\"\"\""
      ]
     },
     "execution_count": 31,
     "metadata": {},
     "output_type": "execute_result"
    }
   ],
   "source": [
    "result.summary()"
   ]
  },
  {
   "cell_type": "markdown",
   "metadata": {},
   "source": [
    "### Summary conclusion of this data set based on factors pursued (Age and gender relationships with regard to tumor size)\n",
    "###### Upon reviewing this dataset, it appears there is a positive relationship between the age of the patient and the size of the tumor for both Male and Females studied.\n",
    "###### The Age historgram shows a normal distribution of age so the mean calculation is used to determine age most likely to discover a PCC / PGL tumor which is 41 yrs old.\n",
    "###### The Tumor Size histogram shows a Poisson distribution of size so the median calculation is used to determine tumor size which is 44 mm.\n",
    "###### It is therefore reasonable to conclude the PCC / PGL tumors are discovered around the age of 41 and are about 44 mm in size at time of discovery.  As age increases, the indication is the tumor will be larger.  Females are identified with these tumors more so than men.\n"
   ]
  }
 ],
 "metadata": {
  "kernelspec": {
   "display_name": "Python 3",
   "language": "python",
   "name": "python3"
  },
  "language_info": {
   "codemirror_mode": {
    "name": "ipython",
    "version": 3
   },
   "file_extension": ".py",
   "mimetype": "text/x-python",
   "name": "python",
   "nbconvert_exporter": "python",
   "pygments_lexer": "ipython3",
   "version": "3.7.1"
  }
 },
 "nbformat": 4,
 "nbformat_minor": 2
}
